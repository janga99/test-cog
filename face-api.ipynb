import json, os, requests


subscription_key = 'FACE_SUBSCRIPTION_KEY'
subscription_key = 'e851278425664dfbaaaaeb43880a8b5d'

endpoint = 'FACE_ENDPOINT'
endpoint = 'https://test-face999.cognitiveservices.azure.com/'

face_api_url = endpoint + '/face/v1.0/detect'

image_url = 'https://raw.githubusercontent.com/Azure-Samples/cognitive-services-sample-data-files/master/ComputerVision/Images/faces.jpg'

headers = {"Ocp-Apim-Subscription-Key": subscription_key}

params = {
    "detectionModel": "detection_02",
    "returnFaceId": true
}

response = requests.post(face_api_url, params=params,
                         headers=headers, json={"url": image_url})
print(json.dumps(response.json()))
