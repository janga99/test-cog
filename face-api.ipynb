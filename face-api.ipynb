import json, os, requests

# 생성한 Face 서비스의 키값
subscription_key = 'FACE_SUBSCRIPTION_KEY'
subscription_key = 'e851278425664dfbaaaaeb43880a8b5d'
# 생성한 Face 서비스의 Endpoint
endpoint = 'FACE_ENDPOINT'
endpoint = 'https://test-face999.cognitiveservices.azure.com/'

face_api_url = endpoint + '/face/v1.0/detect'

image_url = 'https://raw.githubusercontent.com/Azure-Samples/cognitive-services-sample-data-files/master/ComputerVision/Images/faces.jpg'

headers = {'Ocp-Apim-Subscription-Key': subscription_key}

params = {
    'detectionModel': 'detection_02',
    'returnFaceId': 'true'
}

response = requests.post(face_api_url, params=params,
                         headers=headers, json={"url": image_url})
print(json.dumps(response.json()))
